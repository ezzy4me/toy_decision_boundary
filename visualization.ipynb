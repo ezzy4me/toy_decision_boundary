{
 "cells": [
  {
   "cell_type": "code",
   "execution_count": null,
   "metadata": {},
   "outputs": [],
   "source": [
    "import torch\n",
    "import torch.nn as nn\n",
    "\n",
    "from datasets import load_dataset\n",
    "import numpy as np\n",
    "#####################\n",
    "from torch.utils.data import DataLoader\n",
    "from torch.utils.data import Dataset\n",
    "from bart_dataset import IMDBDataset\n",
    "\n",
    "#####################\n",
    "from transformers import AdamW\n",
    "from transformers import get_scheduler\n",
    "from transformers import BartTokenizer, BertTokenizer\n",
    "#####################\n",
    "from bart_model import TestModel \n",
    "from tqdm import tqdm\n",
    "#####################\n",
    "from torch.optim import AdamW"
   ]
  },
  {
   "cell_type": "code",
   "execution_count": null,
   "metadata": {},
   "outputs": [],
   "source": [
    "if torch.cuda.is_available():\n",
    "    device = \"cuda:2\"\n",
    "else:\n",
    "    device = \"cpu\"   \n",
    "\n",
    "device = torch.device(device)\n",
    "\n",
    "from datasets import load_dataset\n",
    "\n",
    "print('load imdb')\n",
    "dataset = load_dataset(\"imdb\")"
   ]
  },
  {
   "cell_type": "code",
   "execution_count": null,
   "metadata": {},
   "outputs": [],
   "source": [
    "src_list = dict()\n",
    "trg_list = dict()\n",
    "\n",
    "train_dat = dataset['train']\n",
    "test_dat = dataset['test']\n",
    "\n",
    "\n",
    "print('tokenizer')\n",
    "\n",
    "tokenizer = BertTokenizer.from_pretrained('bert-base-cased')\n",
    "\n",
    "# reduce the max_length for tokenizer\n",
    "tokenizer.model_max_length = 200\n",
    "\n",
    "train_encoding = tokenizer(\n",
    "    train_dat['text'][:int(0.8*len(train_dat['text']))],\n",
    "    return_tensors='pt',\n",
    "    padding=True,\n",
    "    truncation=True\n",
    ")\n",
    "\n",
    "val_encoding = tokenizer(\n",
    "    train_dat['text'][int(0.8*len(train_dat['text'])):],\n",
    "    return_tensors='pt',\n",
    "    padding=True,\n",
    "    truncation=True\n",
    ")\n",
    "\n",
    "test_encoding = tokenizer(\n",
    "    test_dat['text'],\n",
    "    return_tensors='pt',\n",
    "    padding=True,\n",
    "    truncation=True\n",
    ")\n",
    "\n",
    "# train_len = int(len(train_dat['text']))\n",
    "train_len = int(0.8*len(train_dat['text']))\n",
    "val_len = int(0.2*len(train_dat['text']))\n",
    "test_len = int(len(test_dat['text']))\n",
    "\n",
    "\n",
    "print('dataloader')    \n",
    "train_set = IMDBDataset(train_encoding, train_dat['label'][:train_len])\n",
    "# train_set = IMDBDataset(train_encoding, train_dat['label'])\n",
    "val_set = IMDBDataset(val_encoding, train_dat['label'][train_len:])\n",
    "test_set = IMDBDataset(test_encoding, test_dat['label'])\n",
    "\n",
    "train_loader = DataLoader(train_set, batch_size=32, shuffle=True)\n",
    "val_loader = DataLoader(val_set, batch_size=32, shuffle=True)\n",
    "test_loader = DataLoader(test_set, batch_size=32, shuffle=True)"
   ]
  },
  {
   "cell_type": "code",
   "execution_count": null,
   "metadata": {},
   "outputs": [],
   "source": [
    "print(\"evaluate loop\")        \n",
    "def evaluate(model, testloader, device):\n",
    "    model.to(device)\n",
    "    model.eval()\n",
    "    \n",
    "    total_acc_test = 0\n",
    "\n",
    "    with torch.no_grad():\n",
    "        \n",
    "        for i, test_input in enumerate(tqdm(testloader)):\n",
    "\n",
    "            test_label = test_input['labels'].to(device)\n",
    "            mask = test_input['attention_mask'].to(device)\n",
    "            input_id = test_input['input_ids'].squeeze(1).to(device)\n",
    "\n",
    "            out, _ = model(input_id, mask)\n",
    "\n",
    "            acc = (out.argmax(dim=1) == test_label).sum().item()\n",
    "            total_acc_test += acc\n",
    "\n",
    "    print('='*64)    \n",
    "    print(f'Test Accuracy: {total_acc_test / test_len: .3f}')\n",
    "    print('='*64)     "
   ]
  },
  {
   "cell_type": "code",
   "execution_count": null,
   "metadata": {},
   "outputs": [],
   "source": [
    "print(\"evaluate\")\n",
    "# load model\n",
    "model = TestModel()\n",
    "PATH = './model.pt'\n",
    "model.load_state_dict(torch.load(PATH))\n",
    "evaluate(model, test_loader, device)"
   ]
  },
  {
   "cell_type": "markdown",
   "metadata": {},
   "source": [
    "<h1>TSNE – Visualization of Embedding of sentences"
   ]
  },
  {
   "cell_type": "markdown",
   "metadata": {},
   "source": [
    "<h2>Extract the Embedding"
   ]
  },
  {
   "cell_type": "code",
   "execution_count": null,
   "metadata": {},
   "outputs": [],
   "source": [
    "model = TestModel()\n",
    "PATH = './model.pt'\n",
    "model.load_state_dict(torch.load(PATH))"
   ]
  },
  {
   "cell_type": "code",
   "execution_count": null,
   "metadata": {},
   "outputs": [],
   "source": [
    "import numpy as np\n",
    "import pandas as pd"
   ]
  },
  {
   "cell_type": "code",
   "execution_count": null,
   "metadata": {},
   "outputs": [],
   "source": [
    "def visualization(model, testloader, device):\n",
    "    model.to(device)\n",
    "    model.eval()\n",
    "    data_label = pd.DataFrame(columns=['data', 'pred', 'label'])\n",
    "\n",
    "    with torch.no_grad():\n",
    "\n",
    "        for i, test_input in enumerate(tqdm(testloader)):\n",
    "\n",
    "            test_label = test_input['labels'].to(device)\n",
    "\n",
    "            mask = test_input['attention_mask'].to(device)\n",
    "            input_id = test_input['input_ids'].squeeze(1).to(device)\n",
    "\n",
    "            out, outputs = model(input_id, mask)\n",
    "            pred = out.argmax(dim=1)\n",
    "\n",
    "            # append each batch by column\n",
    "            mid_data = outputs.cpu().numpy()\n",
    "            mid_pred = pred.cpu().numpy()\n",
    "            mid_label = test_label.cpu().numpy()\n",
    "\n",
    "            for i in range(len(mid_data)):\n",
    "                data_label = data_label.append({'data': mid_data[i], 'pred': mid_pred[i],'label': mid_label[i]}, ignore_index=True)\n",
    "\n",
    "    return data_label\n"
   ]
  },
  {
   "cell_type": "code",
   "execution_count": null,
   "metadata": {},
   "outputs": [],
   "source": [
    "data_label = visualization(model, test_loader, device)"
   ]
  },
  {
   "cell_type": "code",
   "execution_count": null,
   "metadata": {},
   "outputs": [],
   "source": [
    "# prediction function for meshgrid\n",
    "def prediction():"
   ]
  },
  {
   "cell_type": "code",
   "execution_count": null,
   "metadata": {},
   "outputs": [],
   "source": [
    "test_label = data_label['label']\n",
    "test_data = data_label['data']\n",
    "test_pred = data_label['pred']"
   ]
  },
  {
   "cell_type": "markdown",
   "metadata": {},
   "source": [
    "<h2>TSNE"
   ]
  },
  {
   "cell_type": "code",
   "execution_count": null,
   "metadata": {},
   "outputs": [],
   "source": [
    "import numpy as np\n",
    "from sklearn.manifold import TSNE\n",
    "\n",
    "sentence_embedded = np.array(test_data.tolist())\n",
    "X = sentence_embedded[:1000]\n",
    "\n",
    "X_embedded = TSNE(n_components=2).fit_transform(X)"
   ]
  },
  {
   "cell_type": "code",
   "execution_count": null,
   "metadata": {},
   "outputs": [],
   "source": [
    "df_embeddings = pd.DataFrame(X_embedded)\n",
    "df_embeddings = df_embeddings.rename(columns={0:'x',1:'y'})\n",
    "df_embeddings = df_embeddings.assign(label=test_label[:1000].values)\n",
    "df_embeddings = df_embeddings.assign(pred=test_pred[:1000].values)\n",
    "\n",
    "df_embeddings = df_embeddings.assign(text=test_data[:1000].values)"
   ]
  },
  {
   "cell_type": "markdown",
   "metadata": {},
   "source": [
    "<h2> display embedding"
   ]
  },
  {
   "cell_type": "code",
   "execution_count": null,
   "metadata": {},
   "outputs": [],
   "source": [
    "!pip install plotly"
   ]
  },
  {
   "cell_type": "code",
   "execution_count": null,
   "metadata": {},
   "outputs": [],
   "source": [
    "!pip install \"notebook>=5.3\" \"ipywidgets>=7.2\""
   ]
  },
  {
   "cell_type": "code",
   "execution_count": null,
   "metadata": {},
   "outputs": [],
   "source": [
    "import plotly.express as px\n"
   ]
  },
  {
   "cell_type": "code",
   "execution_count": null,
   "metadata": {},
   "outputs": [],
   "source": [
    "\n",
    "fig = px.scatter(df_embeddings, x='x', y='y',\n",
    "                 color='label', labels={'color': 'label'},\n",
    "                 hover_data=['text'], title = 'IMDB Embedding Visualization',\n",
    "                 width=1000, height=1000)\n",
    "fig.show()"
   ]
  },
  {
   "cell_type": "code",
   "execution_count": null,
   "metadata": {},
   "outputs": [],
   "source": [
    "fig = px.scatter(df_embeddings, x='x', y='y',\n",
    "                 color='pred', labels={'color': 'pred'},\n",
    "                 hover_data=['text'], title = 'IMDB Embedding Prediction Visualization',\n",
    "                 height=1000, width=1000)\n",
    "fig.show()"
   ]
  },
  {
   "cell_type": "code",
   "execution_count": null,
   "metadata": {},
   "outputs": [],
   "source": [
    "# check size of df_embeddings\n",
    "df_embeddings.shape"
   ]
  },
  {
   "cell_type": "code",
   "execution_count": 44,
   "metadata": {},
   "outputs": [
    {
     "data": {
      "text/plain": [
       "0     -10.292034\n",
       "1      10.570462\n",
       "2      -6.810357\n",
       "3      -3.159194\n",
       "4      -0.011285\n",
       "         ...    \n",
       "995    11.200824\n",
       "996    14.037223\n",
       "997    -2.295914\n",
       "998    15.814810\n",
       "999     3.721992\n",
       "Name: x, Length: 1000, dtype: float32"
      ]
     },
     "execution_count": 44,
     "metadata": {},
     "output_type": "execute_result"
    }
   ],
   "source": [
    "df_embeddings['x']"
   ]
  },
  {
   "cell_type": "code",
   "execution_count": 26,
   "metadata": {},
   "outputs": [],
   "source": [
    "import matplotlib.pyplot as plt"
   ]
  },
  {
   "cell_type": "code",
   "execution_count": 43,
   "metadata": {},
   "outputs": [
    {
     "ename": "ValueError",
     "evalue": "cannot reshape array of size 1000 into shape (1856,801)",
     "output_type": "error",
     "traceback": [
      "\u001b[0;31m---------------------------------------------------------------------------\u001b[0m",
      "\u001b[0;31mValueError\u001b[0m                                Traceback (most recent call last)",
      "\u001b[1;32m/home/sangmin/decision_boundary/classification/visualization.ipynb Cell 25\u001b[0m in \u001b[0;36m<cell line: 13>\u001b[0;34m()\u001b[0m\n\u001b[1;32m     <a href='vscode-notebook-cell://ssh-remote%2B7b22686f73744e616d65223a223136352e3139342e3131352e3336222c2275736572223a2273616e676d696e222c22706f7274223a373732327d/home/sangmin/decision_boundary/classification/visualization.ipynb#X30sdnNjb2RlLXJlbW90ZQ%3D%3D?line=10'>11</a>\u001b[0m \u001b[39m# transfer from pred to Predict the function value for the whole gid\u001b[39;00m\n\u001b[1;32m     <a href='vscode-notebook-cell://ssh-remote%2B7b22686f73744e616d65223a223136352e3139342e3131352e3336222c2275736572223a2273616e676d696e222c22706f7274223a373732327d/home/sangmin/decision_boundary/classification/visualization.ipynb#X30sdnNjb2RlLXJlbW90ZQ%3D%3D?line=11'>12</a>\u001b[0m pred \u001b[39m=\u001b[39m df_embeddings[\u001b[39m'\u001b[39m\u001b[39mpred\u001b[39m\u001b[39m'\u001b[39m][:]\u001b[39m.\u001b[39mvalues\n\u001b[0;32m---> <a href='vscode-notebook-cell://ssh-remote%2B7b22686f73744e616d65223a223136352e3139342e3131352e3336222c2275736572223a2273616e676d696e222c22706f7274223a373732327d/home/sangmin/decision_boundary/classification/visualization.ipynb#X30sdnNjb2RlLXJlbW90ZQ%3D%3D?line=12'>13</a>\u001b[0m zz \u001b[39m=\u001b[39m pred\u001b[39m.\u001b[39;49mreshape(xx\u001b[39m.\u001b[39;49mshape)\n",
      "\u001b[0;31mValueError\u001b[0m: cannot reshape array of size 1000 into shape (1856,801)"
     ]
    }
   ],
   "source": [
    "# visualization for bert model\n",
    "# df_embeddings\n",
    "x_min, x_max = df_embeddings['x'][:].min() - .5, df_embeddings['x'][:].max() + .5\n",
    "y_min, y_max = df_embeddings['y'][:].min() - .5, df_embeddings['y'][:].max() + .5\n",
    "h = 0.05\n",
    "\n",
    "# Generate a grid of points with distance h between them\n",
    "xx, yy = np.meshgrid(np.arange(x_min, x_max, h), np.arange(y_min, y_max, h))\n",
    "X = np.vstack([xx.ravel(), yy.ravel()]).T\n",
    "\n",
    "# transfer from pred to Predict the function value for the whole gid\n",
    "pred = df_embeddings['pred'][:].values\n",
    "zz = pred.reshape(xx.shape)\n",
    "\n"
   ]
  },
  {
   "cell_type": "code",
   "execution_count": 42,
   "metadata": {},
   "outputs": [
    {
     "ename": "ValueError",
     "evalue": "cannot reshape array of size 1000 into shape (1856,801)",
     "output_type": "error",
     "traceback": [
      "\u001b[0;31m---------------------------------------------------------------------------\u001b[0m",
      "\u001b[0;31mValueError\u001b[0m                                Traceback (most recent call last)",
      "\u001b[1;32m/home/sangmin/decision_boundary/classification/visualization.ipynb Cell 26\u001b[0m in \u001b[0;36m<cell line: 1>\u001b[0;34m()\u001b[0m\n\u001b[0;32m----> <a href='vscode-notebook-cell://ssh-remote%2B7b22686f73744e616d65223a223136352e3139342e3131352e3336222c2275736572223a2273616e676d696e222c22706f7274223a373732327d/home/sangmin/decision_boundary/classification/visualization.ipynb#X42sdnNjb2RlLXJlbW90ZQ%3D%3D?line=0'>1</a>\u001b[0m zz \u001b[39m=\u001b[39m pred\u001b[39m.\u001b[39;49mreshape(xx\u001b[39m.\u001b[39;49mshape)\n",
      "\u001b[0;31mValueError\u001b[0m: cannot reshape array of size 1000 into shape (1856,801)"
     ]
    }
   ],
   "source": [
    "zz = pred.reshape(xx.shape)"
   ]
  },
  {
   "cell_type": "code",
   "execution_count": 29,
   "metadata": {},
   "outputs": [
    {
     "ename": "TypeError",
     "evalue": "Input z must be 2D, not 1D",
     "output_type": "error",
     "traceback": [
      "\u001b[0;31m---------------------------------------------------------------------------\u001b[0m",
      "\u001b[0;31mTypeError\u001b[0m                                 Traceback (most recent call last)",
      "\u001b[1;32m/home/sangmin/decision_boundary/classification/visualization.ipynb Cell 26\u001b[0m in \u001b[0;36m<cell line: 2>\u001b[0;34m()\u001b[0m\n\u001b[1;32m      <a href='vscode-notebook-cell://ssh-remote%2B7b22686f73744e616d65223a223136352e3139342e3131352e3336222c2275736572223a2273616e676d696e222c22706f7274223a373732327d/home/sangmin/decision_boundary/classification/visualization.ipynb#X31sdnNjb2RlLXJlbW90ZQ%3D%3D?line=0'>1</a>\u001b[0m \u001b[39m# Plot the contour and training examples\u001b[39;00m\n\u001b[0;32m----> <a href='vscode-notebook-cell://ssh-remote%2B7b22686f73744e616d65223a223136352e3139342e3131352e3336222c2275736572223a2273616e676d696e222c22706f7274223a373732327d/home/sangmin/decision_boundary/classification/visualization.ipynb#X31sdnNjb2RlLXJlbW90ZQ%3D%3D?line=1'>2</a>\u001b[0m plt\u001b[39m.\u001b[39;49mcontourf(xx, yy, pred)\n\u001b[1;32m      <a href='vscode-notebook-cell://ssh-remote%2B7b22686f73744e616d65223a223136352e3139342e3131352e3336222c2275736572223a2273616e676d696e222c22706f7274223a373732327d/home/sangmin/decision_boundary/classification/visualization.ipynb#X31sdnNjb2RlLXJlbW90ZQ%3D%3D?line=2'>3</a>\u001b[0m plt\u001b[39m.\u001b[39mscatter(df_embeddings[\u001b[39m'\u001b[39m\u001b[39mx\u001b[39m\u001b[39m'\u001b[39m][:], df_embeddings[\u001b[39m'\u001b[39m\u001b[39my\u001b[39m\u001b[39m'\u001b[39m][:], c\u001b[39m=\u001b[39mdf_embeddings[\u001b[39m'\u001b[39m\u001b[39mlabel\u001b[39m\u001b[39m'\u001b[39m][:]\u001b[39m.\u001b[39mvalues , s\u001b[39m=\u001b[39m\u001b[39m40\u001b[39m, edgecolors\u001b[39m=\u001b[39m\u001b[39m\"\u001b[39m\u001b[39mgrey\u001b[39m\u001b[39m\"\u001b[39m, alpha\u001b[39m=\u001b[39m\u001b[39m0.9\u001b[39m)\n",
      "File \u001b[0;32m~/anaconda3/envs/project/lib/python3.9/site-packages/matplotlib/pyplot.py:2453\u001b[0m, in \u001b[0;36mcontourf\u001b[0;34m(data, *args, **kwargs)\u001b[0m\n\u001b[1;32m   2451\u001b[0m \u001b[39m@_copy_docstring_and_deprecators\u001b[39m(Axes\u001b[39m.\u001b[39mcontourf)\n\u001b[1;32m   2452\u001b[0m \u001b[39mdef\u001b[39;00m \u001b[39mcontourf\u001b[39m(\u001b[39m*\u001b[39margs, data\u001b[39m=\u001b[39m\u001b[39mNone\u001b[39;00m, \u001b[39m*\u001b[39m\u001b[39m*\u001b[39mkwargs):\n\u001b[0;32m-> 2453\u001b[0m     __ret \u001b[39m=\u001b[39m gca()\u001b[39m.\u001b[39;49mcontourf(\n\u001b[1;32m   2454\u001b[0m         \u001b[39m*\u001b[39;49margs, \u001b[39m*\u001b[39;49m\u001b[39m*\u001b[39;49m({\u001b[39m\"\u001b[39;49m\u001b[39mdata\u001b[39;49m\u001b[39m\"\u001b[39;49m: data} \u001b[39mif\u001b[39;49;00m data \u001b[39mis\u001b[39;49;00m \u001b[39mnot\u001b[39;49;00m \u001b[39mNone\u001b[39;49;00m \u001b[39melse\u001b[39;49;00m {}),\n\u001b[1;32m   2455\u001b[0m         \u001b[39m*\u001b[39;49m\u001b[39m*\u001b[39;49mkwargs)\n\u001b[1;32m   2456\u001b[0m     \u001b[39mif\u001b[39;00m __ret\u001b[39m.\u001b[39m_A \u001b[39mis\u001b[39;00m \u001b[39mnot\u001b[39;00m \u001b[39mNone\u001b[39;00m: sci(__ret)  \u001b[39m# noqa\u001b[39;00m\n\u001b[1;32m   2457\u001b[0m     \u001b[39mreturn\u001b[39;00m __ret\n",
      "File \u001b[0;32m~/anaconda3/envs/project/lib/python3.9/site-packages/matplotlib/__init__.py:1423\u001b[0m, in \u001b[0;36m_preprocess_data.<locals>.inner\u001b[0;34m(ax, data, *args, **kwargs)\u001b[0m\n\u001b[1;32m   1420\u001b[0m \u001b[39m@functools\u001b[39m\u001b[39m.\u001b[39mwraps(func)\n\u001b[1;32m   1421\u001b[0m \u001b[39mdef\u001b[39;00m \u001b[39minner\u001b[39m(ax, \u001b[39m*\u001b[39margs, data\u001b[39m=\u001b[39m\u001b[39mNone\u001b[39;00m, \u001b[39m*\u001b[39m\u001b[39m*\u001b[39mkwargs):\n\u001b[1;32m   1422\u001b[0m     \u001b[39mif\u001b[39;00m data \u001b[39mis\u001b[39;00m \u001b[39mNone\u001b[39;00m:\n\u001b[0;32m-> 1423\u001b[0m         \u001b[39mreturn\u001b[39;00m func(ax, \u001b[39m*\u001b[39;49m\u001b[39mmap\u001b[39;49m(sanitize_sequence, args), \u001b[39m*\u001b[39;49m\u001b[39m*\u001b[39;49mkwargs)\n\u001b[1;32m   1425\u001b[0m     bound \u001b[39m=\u001b[39m new_sig\u001b[39m.\u001b[39mbind(ax, \u001b[39m*\u001b[39margs, \u001b[39m*\u001b[39m\u001b[39m*\u001b[39mkwargs)\n\u001b[1;32m   1426\u001b[0m     auto_label \u001b[39m=\u001b[39m (bound\u001b[39m.\u001b[39marguments\u001b[39m.\u001b[39mget(label_namer)\n\u001b[1;32m   1427\u001b[0m                   \u001b[39mor\u001b[39;00m bound\u001b[39m.\u001b[39mkwargs\u001b[39m.\u001b[39mget(label_namer))\n",
      "File \u001b[0;32m~/anaconda3/envs/project/lib/python3.9/site-packages/matplotlib/axes/_axes.py:6382\u001b[0m, in \u001b[0;36mAxes.contourf\u001b[0;34m(self, *args, **kwargs)\u001b[0m\n\u001b[1;32m   6373\u001b[0m \u001b[39m\"\"\"\u001b[39;00m\n\u001b[1;32m   6374\u001b[0m \u001b[39mPlot filled contours.\u001b[39;00m\n\u001b[1;32m   6375\u001b[0m \n\u001b[0;32m   (...)\u001b[0m\n\u001b[1;32m   6379\u001b[0m \u001b[39m%(contour_doc)s\u001b[39;00m\n\u001b[1;32m   6380\u001b[0m \u001b[39m\"\"\"\u001b[39;00m\n\u001b[1;32m   6381\u001b[0m kwargs[\u001b[39m'\u001b[39m\u001b[39mfilled\u001b[39m\u001b[39m'\u001b[39m] \u001b[39m=\u001b[39m \u001b[39mTrue\u001b[39;00m\n\u001b[0;32m-> 6382\u001b[0m contours \u001b[39m=\u001b[39m mcontour\u001b[39m.\u001b[39;49mQuadContourSet(\u001b[39mself\u001b[39;49m, \u001b[39m*\u001b[39;49margs, \u001b[39m*\u001b[39;49m\u001b[39m*\u001b[39;49mkwargs)\n\u001b[1;32m   6383\u001b[0m \u001b[39mself\u001b[39m\u001b[39m.\u001b[39m_request_autoscale_view()\n\u001b[1;32m   6384\u001b[0m \u001b[39mreturn\u001b[39;00m contours\n",
      "File \u001b[0;32m~/anaconda3/envs/project/lib/python3.9/site-packages/matplotlib/contour.py:794\u001b[0m, in \u001b[0;36mContourSet.__init__\u001b[0;34m(self, ax, levels, filled, linewidths, linestyles, hatches, alpha, origin, extent, cmap, colors, norm, vmin, vmax, extend, antialiased, nchunk, locator, transform, negative_linestyles, *args, **kwargs)\u001b[0m\n\u001b[1;32m    790\u001b[0m \u001b[39mif\u001b[39;00m \u001b[39mself\u001b[39m\u001b[39m.\u001b[39mnegative_linestyles \u001b[39mis\u001b[39;00m \u001b[39mNone\u001b[39;00m:\n\u001b[1;32m    791\u001b[0m     \u001b[39mself\u001b[39m\u001b[39m.\u001b[39mnegative_linestyles \u001b[39m=\u001b[39m \\\n\u001b[1;32m    792\u001b[0m         mpl\u001b[39m.\u001b[39mrcParams[\u001b[39m'\u001b[39m\u001b[39mcontour.negative_linestyle\u001b[39m\u001b[39m'\u001b[39m]\n\u001b[0;32m--> 794\u001b[0m kwargs \u001b[39m=\u001b[39m \u001b[39mself\u001b[39;49m\u001b[39m.\u001b[39;49m_process_args(\u001b[39m*\u001b[39;49margs, \u001b[39m*\u001b[39;49m\u001b[39m*\u001b[39;49mkwargs)\n\u001b[1;32m    795\u001b[0m \u001b[39mself\u001b[39m\u001b[39m.\u001b[39m_process_levels()\n\u001b[1;32m    797\u001b[0m \u001b[39mself\u001b[39m\u001b[39m.\u001b[39m_extend_min \u001b[39m=\u001b[39m \u001b[39mself\u001b[39m\u001b[39m.\u001b[39mextend \u001b[39min\u001b[39;00m [\u001b[39m'\u001b[39m\u001b[39mmin\u001b[39m\u001b[39m'\u001b[39m, \u001b[39m'\u001b[39m\u001b[39mboth\u001b[39m\u001b[39m'\u001b[39m]\n",
      "File \u001b[0;32m~/anaconda3/envs/project/lib/python3.9/site-packages/matplotlib/contour.py:1435\u001b[0m, in \u001b[0;36mQuadContourSet._process_args\u001b[0;34m(self, corner_mask, algorithm, *args, **kwargs)\u001b[0m\n\u001b[1;32m   1432\u001b[0m         corner_mask \u001b[39m=\u001b[39m mpl\u001b[39m.\u001b[39mrcParams[\u001b[39m'\u001b[39m\u001b[39mcontour.corner_mask\u001b[39m\u001b[39m'\u001b[39m]\n\u001b[1;32m   1433\u001b[0m \u001b[39mself\u001b[39m\u001b[39m.\u001b[39m_corner_mask \u001b[39m=\u001b[39m corner_mask\n\u001b[0;32m-> 1435\u001b[0m x, y, z \u001b[39m=\u001b[39m \u001b[39mself\u001b[39;49m\u001b[39m.\u001b[39;49m_contour_args(args, kwargs)\n\u001b[1;32m   1437\u001b[0m contour_generator \u001b[39m=\u001b[39m contourpy\u001b[39m.\u001b[39mcontour_generator(\n\u001b[1;32m   1438\u001b[0m     x, y, z, name\u001b[39m=\u001b[39m\u001b[39mself\u001b[39m\u001b[39m.\u001b[39m_algorithm, corner_mask\u001b[39m=\u001b[39m\u001b[39mself\u001b[39m\u001b[39m.\u001b[39m_corner_mask,\n\u001b[1;32m   1439\u001b[0m     line_type\u001b[39m=\u001b[39mcontourpy\u001b[39m.\u001b[39mLineType\u001b[39m.\u001b[39mSeparateCode,\n\u001b[1;32m   1440\u001b[0m     fill_type\u001b[39m=\u001b[39mcontourpy\u001b[39m.\u001b[39mFillType\u001b[39m.\u001b[39mOuterCode,\n\u001b[1;32m   1441\u001b[0m     chunk_size\u001b[39m=\u001b[39m\u001b[39mself\u001b[39m\u001b[39m.\u001b[39mnchunk)\n\u001b[1;32m   1443\u001b[0m t \u001b[39m=\u001b[39m \u001b[39mself\u001b[39m\u001b[39m.\u001b[39mget_transform()\n",
      "File \u001b[0;32m~/anaconda3/envs/project/lib/python3.9/site-packages/matplotlib/contour.py:1473\u001b[0m, in \u001b[0;36mQuadContourSet._contour_args\u001b[0;34m(self, args, kwargs)\u001b[0m\n\u001b[1;32m   1471\u001b[0m     args \u001b[39m=\u001b[39m args[\u001b[39m1\u001b[39m:]\n\u001b[1;32m   1472\u001b[0m \u001b[39melif\u001b[39;00m Nargs \u001b[39m<\u001b[39m\u001b[39m=\u001b[39m \u001b[39m4\u001b[39m:\n\u001b[0;32m-> 1473\u001b[0m     x, y, z \u001b[39m=\u001b[39m \u001b[39mself\u001b[39;49m\u001b[39m.\u001b[39;49m_check_xyz(args[:\u001b[39m3\u001b[39;49m], kwargs)\n\u001b[1;32m   1474\u001b[0m     args \u001b[39m=\u001b[39m args[\u001b[39m3\u001b[39m:]\n\u001b[1;32m   1475\u001b[0m \u001b[39melse\u001b[39;00m:\n",
      "File \u001b[0;32m~/anaconda3/envs/project/lib/python3.9/site-packages/matplotlib/contour.py:1501\u001b[0m, in \u001b[0;36mQuadContourSet._check_xyz\u001b[0;34m(self, args, kwargs)\u001b[0m\n\u001b[1;32m   1498\u001b[0m z \u001b[39m=\u001b[39m ma\u001b[39m.\u001b[39masarray(args[\u001b[39m2\u001b[39m], dtype\u001b[39m=\u001b[39mnp\u001b[39m.\u001b[39mfloat64)\n\u001b[1;32m   1500\u001b[0m \u001b[39mif\u001b[39;00m z\u001b[39m.\u001b[39mndim \u001b[39m!=\u001b[39m \u001b[39m2\u001b[39m:\n\u001b[0;32m-> 1501\u001b[0m     \u001b[39mraise\u001b[39;00m \u001b[39mTypeError\u001b[39;00m(\u001b[39mf\u001b[39m\u001b[39m\"\u001b[39m\u001b[39mInput z must be 2D, not \u001b[39m\u001b[39m{\u001b[39;00mz\u001b[39m.\u001b[39mndim\u001b[39m}\u001b[39;00m\u001b[39mD\u001b[39m\u001b[39m\"\u001b[39m)\n\u001b[1;32m   1502\u001b[0m \u001b[39mif\u001b[39;00m z\u001b[39m.\u001b[39mshape[\u001b[39m0\u001b[39m] \u001b[39m<\u001b[39m \u001b[39m2\u001b[39m \u001b[39mor\u001b[39;00m z\u001b[39m.\u001b[39mshape[\u001b[39m1\u001b[39m] \u001b[39m<\u001b[39m \u001b[39m2\u001b[39m:\n\u001b[1;32m   1503\u001b[0m     \u001b[39mraise\u001b[39;00m \u001b[39mTypeError\u001b[39;00m(\u001b[39mf\u001b[39m\u001b[39m\"\u001b[39m\u001b[39mInput z must be at least a (2, 2) shaped array, \u001b[39m\u001b[39m\"\u001b[39m\n\u001b[1;32m   1504\u001b[0m                     \u001b[39mf\u001b[39m\u001b[39m\"\u001b[39m\u001b[39mbut has shape \u001b[39m\u001b[39m{\u001b[39;00mz\u001b[39m.\u001b[39mshape\u001b[39m}\u001b[39;00m\u001b[39m\"\u001b[39m)\n",
      "\u001b[0;31mTypeError\u001b[0m: Input z must be 2D, not 1D"
     ]
    },
    {
     "data": {
      "image/png": "[encoded data removed]",
      "text/plain": [
       "<Figure size 432x288 with 1 Axes>"
      ]
     },
     "metadata": {
      "needs_background": "light"
     },
     "output_type": "display_data"
    }
   ],
   "source": [
    "# Plot the contour and training examples\n",
    "plt.contourf(xx, yy, pred)\n",
    "plt.scatter(df_embeddings['x'][:], df_embeddings['y'][:], c=df_embeddings['label'][:].values , s=40, edgecolors=\"grey\", alpha=0.9)"
   ]
  },
  {
   "cell_type": "code",
   "execution_count": 30,
   "metadata": {},
   "outputs": [],
   "source": [
    "import matplotlib.tri as tri\n",
    "import numpy as np\n",
    "npts = 100\n",
    "x = np.random.uniform(-2, 2, npts)\n",
    "y = np.random.uniform(-2, 2, npts)\n",
    "z = x * np.exp(-x**2 - y**2)\n",
    "ngridx = 100\n",
    "ngridy = 100\n",
    "xi = np.linspace(-2.2, 2.2, ngridx)\n",
    "yi = np.linspace(-2.2, 2.2, ngridy)\n",
    "triang = tri.Triangulation(x, y)\n",
    "interpolator = tri.LinearTriInterpolator(triang, z)\n",
    "Xi, Yi = np.meshgrid(xi, yi)\n",
    "zi = interpolator(Xi, Yi)"
   ]
  },
  {
   "cell_type": "code",
   "execution_count": 37,
   "metadata": {},
   "outputs": [
    {
     "data": {
      "text/plain": [
       "(100, 100)"
      ]
     },
     "execution_count": 37,
     "metadata": {},
     "output_type": "execute_result"
    }
   ],
   "source": [
    "zi.shape"
   ]
  },
  {
   "cell_type": "code",
   "execution_count": 31,
   "metadata": {},
   "outputs": [
    {
     "data": {
      "image/png": "[encoded data removed]",
      "text/plain": [
       "<Figure size 432x288 with 2 Axes>"
      ]
     },
     "metadata": {
      "needs_background": "light"
     },
     "output_type": "display_data"
    }
   ],
   "source": [
    "plt.contour(xi, yi, zi, levels=15, linewidths=0.5, colors='k')\n",
    "cntr = plt.contourf(xi, yi, zi, levels=15, cmap=\"RdBu_r\")\n",
    "plt.colorbar(cntr)\n",
    "plt.plot(x, y, 'ko', ms=3)\n",
    "plt.show()"
   ]
  },
  {
   "cell_type": "code",
   "execution_count": null,
   "metadata": {},
   "outputs": [],
   "source": []
  }
 ],
 "metadata": {
  "kernelspec": {
   "display_name": "Python 3.9.12 ('project': conda)",
   "language": "python",
   "name": "python3"
  },
  "language_info": {
   "codemirror_mode": {
    "name": "ipython",
    "version": 3
   },
   "file_extension": ".py",
   "mimetype": "text/x-python",
   "name": "python",
   "nbconvert_exporter": "python",
   "pygments_lexer": "ipython3",
   "version": "3.9.12"
  },
  "orig_nbformat": 4,
  "vscode": {
   "interpreter": {
    "hash": "06c010cb88c33d20ebe2f78b6eff9ad15a813be511dbcacf47d24ddbc9f1a801"
   }
  }
 },
 "nbformat": 4,
 "nbformat_minor": 2
}
